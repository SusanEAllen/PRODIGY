{
 "cells": [
  {
   "cell_type": "markdown",
   "id": "ff67f879-a25c-43db-a0c5-019da1d2618f",
   "metadata": {},
   "source": [
    "### Notebook to Create Climatologies\n",
    "\n",
    "This exercise will show you how to download model results from the ERDDAP server, create a climatology, and compare current results to the climatology.\n",
    "\n",
    "**Learning Goals**\n",
    "\n",
    "After completing these exercises you will be able to:\n",
    "1. describe what a climatology is and explain how you generate one\n",
    "2. describe anomalies from a climatology and explain how to create them\n",
    "3. for one tracer field, describe how 2024 compares to previous Mays, considering anomalies and also how large those anomalies are"
   ]
  },
  {
   "cell_type": "markdown",
   "id": "4decb419-d6ee-4b8d-8914-279f677e452a",
   "metadata": {},
   "source": [
    "# 1. Imports and other Set-up"
   ]
  },
  {
   "cell_type": "code",
   "execution_count": null,
   "id": "c6453c4a-d84b-45f1-ac6b-63d1c13cafb4",
   "metadata": {},
   "outputs": [],
   "source": [
    "import cmocean.cm as cm\n",
    "import copy\n",
    "import matplotlib.pyplot as plt\n",
    "import numpy as np\n",
    "import xarray as xr"
   ]
  },
  {
   "cell_type": "code",
   "execution_count": null,
   "id": "94095106-956d-4be6-918c-e0b55526b83c",
   "metadata": {},
   "outputs": [],
   "source": [
    "# color maps, including masking land as grey\n",
    "cm_haline = copy.copy(cm.haline)\n",
    "cm_haline.set_bad('grey')\n",
    "cm_balance = copy.copy(cm.balance)\n",
    "cm_balance.set_bad('grey')\n",
    "cm_matter = copy.copy(cm.matter)\n",
    "cm_matter.set_bad('grey')"
   ]
  },
  {
   "cell_type": "code",
   "execution_count": null,
   "id": "fa2f5a99-7069-4764-9510-5d01f2b754b9",
   "metadata": {},
   "outputs": [],
   "source": [
    "# point to the ERDDAP server and the specific data sets we will use\n",
    "server = \"https://salishsea.eos.ubc.ca/erddap\"\n",
    "protocol = 'griddap'\n",
    "dataset_ids = {\"grid\": \"ubcSSn3DMeshMaskV21-08\", \n",
    "               \"bathymetry\": \"ubcSSnBathymetryV21-08\", \n",
    "               \"physics\": \"ubcSSg3DPhysicsFields1hV21-11\",\n",
    "               \"biology\" : \"ubcSSg3DBiologyFields1hV21-11\",\n",
    "               \"turbulence\" : \"ubcSSg3DwGridFields1hV21-11\"}"
   ]
  },
  {
   "cell_type": "markdown",
   "id": "b8c13408-a697-47dc-8f74-cec9336d4961",
   "metadata": {},
   "source": [
    "# 2. Grid and Bathymetry"
   ]
  },
  {
   "cell_type": "code",
   "execution_count": null,
   "id": "801f84c3-daca-4cc2-ad6d-8a30625a08cc",
   "metadata": {},
   "outputs": [],
   "source": [
    "# get grid information\n",
    "full_URL = '/'.join([server,protocol,dataset_ids['grid']])\n",
    "print(full_URL)\n",
    "mesh = xr.open_dataset(full_URL)\n",
    "tmask = mesh.tmask[0].values\n",
    "mesh.close()"
   ]
  },
  {
   "cell_type": "code",
   "execution_count": null,
   "id": "56c17e33-608a-40bb-be2a-0dacdd885c10",
   "metadata": {},
   "outputs": [],
   "source": [
    "# get bathymetry information\n",
    "full_URL = '/'.join([server,protocol,dataset_ids['bathymetry']])\n",
    "print(full_URL)\n",
    "bathy = xr.open_dataset(full_URL)"
   ]
  },
  {
   "cell_type": "code",
   "execution_count": null,
   "id": "def30230-3452-40b9-87cb-bcd9abb0f2b3",
   "metadata": {},
   "outputs": [],
   "source": [
    "# choose region of interest in model grid points\n",
    "ygmin, ygmax = 700, 800\n",
    "xgmin, xgmax = 110, 210\n",
    "# region for profile\n",
    "xcmin, xcmax = 120, 160\n",
    "sy = 725"
   ]
  },
  {
   "cell_type": "code",
   "execution_count": null,
   "id": "4ffc2082-29ae-4352-82d2-93c9a0a38c05",
   "metadata": {},
   "outputs": [],
   "source": [
    "# plot bathymetry\n",
    "bathy.bathymetry[ygmin:ygmax, xgmin:xgmax].plot();"
   ]
  },
  {
   "cell_type": "code",
   "execution_count": null,
   "id": "f02c61ce-16ec-4fcc-a032-6340d5b018be",
   "metadata": {},
   "outputs": [],
   "source": [
    "# latitude, longitude plot\n",
    "fig, ax = plt.subplots(1, 1)\n",
    "colours = ax.pcolormesh(bathy.longitude[ygmin:ygmax, xgmin:xgmax], bathy.latitude[ygmin:ygmax, xgmin:xgmax],\n",
    "              bathy.bathymetry[ygmin:ygmax, xgmin:xgmax]);\n",
    "ax.set_ylabel('Latitude')\n",
    "ax.set_xlabel('Longitude')\n",
    "cb = fig.colorbar(colours, ax=ax);\n",
    "cb.set_label('Depth (m)');"
   ]
  },
  {
   "cell_type": "markdown",
   "id": "2f0d7777-936d-4d9e-bc79-2782c033a657",
   "metadata": {},
   "source": [
    "## Exercise  \n",
    "Choose one of: (in consultation with the class so we get a bunch done!)\n",
    "* surface salinity\n",
    "* surface temperature\n",
    "* surface nitrate\n",
    "* depth integrated diatoms\n",
    "* depth integrated flagellates\n",
    "* vertical cross-section of salinity***\n",
    "* vertical cross-section of temperature\n",
    "* vertical cross-section of oxygen\n",
    "* vertical cross-section of dissipation\n",
    "* vertical cross-section of vertical eddy diffusivity\n",
    "\n",
    "Build a daily climatology for your field for May 15.  Calculate the anomalies for 2024.  Calculate the standard deviation over the time series.  Determine is the anomalies are significant.\n",
    "\n",
    "Below I give an example, for a vertical cross-section of salinity (for May 11 as May 15 hasn't happened yet!)."
   ]
  },
  {
   "cell_type": "code",
   "execution_count": null,
   "id": "94185784-8f52-4c20-a86d-5cdfb08830ca",
   "metadata": {},
   "outputs": [],
   "source": [
    "full_URL = '/'.join([server,protocol,dataset_ids['physics']])\n",
    "print(full_URL)\n",
    "phys = xr.open_dataset(full_URL)"
   ]
  },
  {
   "cell_type": "code",
   "execution_count": null,
   "id": "8559e881-e533-44a2-91d8-2b7abae98f59",
   "metadata": {},
   "outputs": [],
   "source": [
    "# get the dates we want, note model time series starts in 2007\n",
    "datelist = [f'{year}-05-15T20:30:00' for year in range(2007, 2024+1)]\n",
    "datelist"
   ]
  },
  {
   "cell_type": "code",
   "execution_count": null,
   "id": "06269aaa-7a6d-4de9-ad48-015cfdf0f384",
   "metadata": {},
   "outputs": [],
   "source": [
    "# pullout the field we want, and only the space we want (small is good, you can make it bigger later)\n",
    "sal = phys['salinity'].sel(  \n",
    "                  gridX=slice(xcmin, xcmax),  \n",
    "                  gridY=sy, \n",
    "                  time=datelist,\n",
    "                  depth=slice(0, 300), \n",
    "                 )"
   ]
  },
  {
   "cell_type": "code",
   "execution_count": null,
   "id": "28cf7330-5953-4fd3-b903-1b91d27ec86b",
   "metadata": {},
   "outputs": [],
   "source": [
    "print (sal.shape)\n",
    "lk = sal.shape[1]  # this figures out how many depth levels I have given my depth choice above\n",
    "smask = tmask[:lk, sy, xcmin:xcmax+1]  # create a mask of the land"
   ]
  },
  {
   "cell_type": "code",
   "execution_count": null,
   "id": "21153c97-f234-44b4-a916-1730f89c7e7e",
   "metadata": {},
   "outputs": [],
   "source": [
    "# plot the 2024 field\n",
    "sal[-1].where(smask).plot(yincrease=False, cmap=cm_haline);\n",
    "sal[-1].where(smask).plot.contour(yincrease=False, levels=np.arange(29.5, 30.8, 0.2), colors='red');"
   ]
  },
  {
   "cell_type": "code",
   "execution_count": null,
   "id": "0ed311c8-174b-4d38-b051-9a7e0df7d7e1",
   "metadata": {},
   "outputs": [],
   "source": [
    "# create the climatology (not including 2024)\n",
    "sal_climatology = sal[:-1].mean(axis=0)"
   ]
  },
  {
   "cell_type": "code",
   "execution_count": null,
   "id": "3867ea98-b16a-4645-acdf-4c7e97097717",
   "metadata": {},
   "outputs": [],
   "source": [
    "sal_climatology.where(smask).plot(yincrease=False, cmap=cm_haline);\n",
    "sal_climatology.where(smask).plot.contour(yincrease=False, levels=np.arange(29.5, 30.8, 0.2), colors='red');"
   ]
  },
  {
   "cell_type": "markdown",
   "id": "b03c303f-ecaf-4064-8976-4760f55c5e29",
   "metadata": {},
   "source": [
    "## Question 1.\n",
    "\n",
    "a) What do you see your field, what type of patterns?  \n",
    "*For example, in my salinity cross-section, I see that near the surface there is fresher water on the east side of the cross-section.  This pattern makes sense because there is more freshwater coming off the mainland than the east side of Vancouver Island.  In addition, looking in particular at the climatology, there is change in salinity at mid-depths at about grid point 132 with the water to the west saltier than the water to the east.*  \n",
    "b) Why is the 2024 plot \"noiser\" than the climatology?  "
   ]
  },
  {
   "cell_type": "markdown",
   "id": "ce619079-4967-41c7-8be9-4d952523a965",
   "metadata": {},
   "source": [
    "You could plot the 2024 field side by side with the climatology to better see the differences.  However, an even better way to show the differences is to subtract them.  The **anomalies** are the 2024 field minus the climatology."
   ]
  },
  {
   "cell_type": "code",
   "execution_count": null,
   "id": "9a9ae0e6-93a0-4ce9-ac55-d782b6950821",
   "metadata": {},
   "outputs": [],
   "source": [
    "# plot the anomalies\n",
    "(sal[-1] - sal_climatology).where(smask).plot(yincrease=False, cmap=cm_balance);"
   ]
  },
  {
   "cell_type": "markdown",
   "id": "32931284-5507-4526-99ab-a3b9f5a0ec9b",
   "metadata": {},
   "source": [
    "## Question 2.\n",
    "\n",
    "a) How does 2024 compare to the climatology for your field?  \n",
    "*For example, my salinity anomalies show that 2024 was saltier at the surface and at all depths on the western side.  Deep on the eastern side though, it is fresher than usual.  That means, on the east side, the stratification is weaker than usual.  \n",
    "b) What do you think it is different (what processes might be stronger/weaker)?  "
   ]
  },
  {
   "cell_type": "markdown",
   "id": "f0556612-c4b0-4a81-a204-5e04ab2d71e4",
   "metadata": {},
   "source": [
    "To ask how anomalous this year is, for each spatial point we calculate a standard deviation over the time series."
   ]
  },
  {
   "cell_type": "code",
   "execution_count": null,
   "id": "cdf89231-b44b-42e8-98be-2aedd3bb8137",
   "metadata": {},
   "outputs": [],
   "source": [
    "# Calculate the Standard Deviation\n",
    "sal_std = sal[:-1].std(axis=0)\n",
    "sal_std.where(smask).plot(yincrease=False, cmap=cm_matter);"
   ]
  },
  {
   "cell_type": "markdown",
   "id": "bfd5e572-a269-4be1-aaa5-9d94abae4706",
   "metadata": {},
   "source": [
    "## Question 3.\n",
    "\n",
    "a) Can you explain the regions of high standard deviation?  What processes make them higher?"
   ]
  },
  {
   "cell_type": "markdown",
   "id": "c1b4dd59-c11b-4af7-90a9-72a4714dcce7",
   "metadata": {},
   "source": [
    "To look at how anomalous 2024 was, we can ask how many standard deviations is it from the mean?  Two is high, three is very high."
   ]
  },
  {
   "cell_type": "code",
   "execution_count": null,
   "id": "b216a9c5-f083-45ab-bfd8-f5b8c782be37",
   "metadata": {},
   "outputs": [],
   "source": [
    "((sal[-1] - sal_climatology)/sal_std).where(smask).plot(yincrease=False, cmap=cm_balance);"
   ]
  },
  {
   "cell_type": "markdown",
   "id": "a846a165-b2c3-43e2-9c2f-9e24c8369163",
   "metadata": {},
   "source": [
    "## Question 4.\n",
    "\n",
    "a) For your field, how high are the anomalies?"
   ]
  },
  {
   "cell_type": "markdown",
   "id": "c72cab2f-8594-4d4f-a760-8c3e0d3fee8e",
   "metadata": {},
   "source": [
    "Lastly we will ask if any other years look like 2024.  Here I am going to plot the normalized anomalies (divided by the standard deviation, but you can choose what to look at: the raw field, the anomalies or the normalized anomalies."
   ]
  },
  {
   "cell_type": "code",
   "execution_count": null,
   "id": "570022f7-3a1b-490f-bc89-67fcf7a46be0",
   "metadata": {},
   "outputs": [],
   "source": [
    "fig, axs = plt.subplots(6, 3, figsize=(12, 24))\n",
    "\n",
    "ii = 0\n",
    "jj = 0\n",
    "\n",
    "for ic, year in enumerate(range(2007, 2024+1)):\n",
    "    ((sal[ic] - sal_climatology)/sal_std).where(smask).plot(ax=axs[ii, jj], yincrease=False, cmap=cm_balance,\n",
    "                                                           vmax=2, vmin=-2);\n",
    "    axs[ii, jj].set_title(year)\n",
    "    if jj < 2:\n",
    "        jj = jj + 1\n",
    "    else:\n",
    "        jj = 0\n",
    "        ii = ii + 1\n",
    "fig.tight_layout();"
   ]
  },
  {
   "cell_type": "markdown",
   "id": "369c2c3a-fa2d-437b-9b87-03ea67bb1c4d",
   "metadata": {},
   "source": [
    "## Question 5.\n",
    "\n",
    "a) For your field, does 2024 look like any of the other years?"
   ]
  },
  {
   "cell_type": "code",
   "execution_count": null,
   "id": "84793d06-9e14-4d52-a3bd-f420cc5ef660",
   "metadata": {},
   "outputs": [],
   "source": []
  }
 ],
 "metadata": {
  "kernelspec": {
   "display_name": "Python 3 (ipykernel)",
   "language": "python",
   "name": "python3"
  },
  "language_info": {
   "codemirror_mode": {
    "name": "ipython",
    "version": 3
   },
   "file_extension": ".py",
   "mimetype": "text/x-python",
   "name": "python",
   "nbconvert_exporter": "python",
   "pygments_lexer": "ipython3",
   "version": "3.12.3"
  }
 },
 "nbformat": 4,
 "nbformat_minor": 5
}
