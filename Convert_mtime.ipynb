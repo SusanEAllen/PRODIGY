{
 "cells": [
  {
   "cell_type": "code",
   "execution_count": 1,
   "id": "e42d5db8-2310-479d-bb39-8bcbb3121b86",
   "metadata": {},
   "outputs": [],
   "source": [
    "from datetime import datetime, timedelta"
   ]
  },
  {
   "cell_type": "code",
   "execution_count": 2,
   "id": "6482da17-5bc5-4ecb-ae00-07355c4d0312",
   "metadata": {},
   "outputs": [],
   "source": [
    "matlab_datenum = 739387.52"
   ]
  },
  {
   "cell_type": "code",
   "execution_count": 3,
   "id": "e1cd1855-a29a-4198-91f2-0f0102f1d00c",
   "metadata": {},
   "outputs": [],
   "source": [
    "python_datetime = datetime.fromordinal(int(matlab_datenum)) + timedelta(days=matlab_datenum%1) - timedelta(days = 366)"
   ]
  },
  {
   "cell_type": "code",
   "execution_count": 4,
   "id": "74dde9b4-7101-4e27-8337-a9830d1b558e",
   "metadata": {},
   "outputs": [
    {
     "data": {
      "text/plain": [
       "datetime.datetime(2024, 5, 15, 12, 28, 48, 2)"
      ]
     },
     "execution_count": 4,
     "metadata": {},
     "output_type": "execute_result"
    }
   ],
   "source": [
    "python_datetime"
   ]
  },
  {
   "cell_type": "code",
   "execution_count": null,
   "id": "0039f3a5-d514-451f-91ca-9e2e066c5a93",
   "metadata": {},
   "outputs": [],
   "source": []
  }
 ],
 "metadata": {
  "kernelspec": {
   "display_name": "py311_prodigy",
   "language": "python",
   "name": "py311_prodigy"
  },
  "language_info": {
   "codemirror_mode": {
    "name": "ipython",
    "version": 3
   },
   "file_extension": ".py",
   "mimetype": "text/x-python",
   "name": "python",
   "nbconvert_exporter": "python",
   "pygments_lexer": "ipython3",
   "version": "3.12.3"
  }
 },
 "nbformat": 4,
 "nbformat_minor": 5
}
